{
 "cells": [
  {
   "cell_type": "markdown",
   "id": "e97b70bc-85df-40a1-9537-f71e034ac634",
   "metadata": {},
   "source": [
    "## Write a Python program that:\n",
    "\n",
    "Accepts a comma-separated string of numbers from the user (e.g., \"1,2,3,4,5\").\n",
    "Typecasts the input string into a list of integers.\n",
    "Print the resulting list of integers.\n",
    "Example Input:\n",
    "\"10,20,30,40,50\" or \n",
    "[10, 20, 30, 40, 50]\n"
   ]
  },
  {
   "cell_type": "code",
   "execution_count": 9,
   "id": "ddead697-b887-460f-94c6-c17be97675aa",
   "metadata": {},
   "outputs": [
    {
     "name": "stdin",
     "output_type": "stream",
     "text": [
      "Enter a comma-seperated string of numbers:  1, 2, 3, 4, 5\n"
     ]
    },
    {
     "name": "stdout",
     "output_type": "stream",
     "text": [
      "['1', ' 2', ' 3', ' 4', ' 5']\n",
      "[1, 2, 3, 4, 5]\n"
     ]
    }
   ],
   "source": [
    "string = input(\"Enter a comma-seperated string of numbers: \").split(\",\")\n",
    "print(string)\n",
    "numbers = [int(num) for num in string]\n",
    "print(numbers)"
   ]
  },
  {
   "cell_type": "markdown",
   "id": "6bd54ab7-060f-4207-a5ce-abc140e3c796",
   "metadata": {},
   "source": [
    "## Write a Python program that user to enter 5 different names (e.g., \"Alice, Bob, Charlie, David, Eve\").\n",
    "Stores these names in a list and prints the list.\n",
    "Then, ask the user for a number and print the name at that index of the list. \n",
    "\n",
    "Example Input\n",
    "\n",
    "\"Alice, Bob, Charlie, David, Eve\"\n",
    "Enter an index: 2\n",
    "\n",
    "\n",
    "Example Output:\n",
    "\n",
    "\n",
    "List: ['Alice', 'Bob', 'Charlie', 'David', 'Eve']\n",
    "Name at index 2: Charlie\n"
   ]
  },
  {
   "cell_type": "code",
   "execution_count": 18,
   "id": "a59a34a4-72cf-4b40-9131-702388e668ed",
   "metadata": {},
   "outputs": [
    {
     "name": "stdin",
     "output_type": "stream",
     "text": [
      "Enter name please:  adeel\n",
      "Enter name please:  tanzeel\n",
      "Enter name please:  ahsan\n",
      "Enter name please:  faizan\n",
      "Enter name please:  ammar\n"
     ]
    },
    {
     "name": "stdout",
     "output_type": "stream",
     "text": [
      "['Adeel', 'Tanzeel', 'Ahsan', 'Faizan', 'Ammar']\n"
     ]
    },
    {
     "name": "stdin",
     "output_type": "stream",
     "text": [
      "Enter index:  3\n"
     ]
    },
    {
     "name": "stdout",
     "output_type": "stream",
     "text": [
      "Name at index 3: Faizan\n"
     ]
    }
   ],
   "source": [
    "names = []\n",
    "for i in range(5):\n",
    "    name = input(\"Enter name please: \").capitalize()\n",
    "    names.append(name)\n",
    "\n",
    "print(names)\n",
    "\n",
    "ind = int(input(\"Enter index: \"))\n",
    "if 0 <= ind < len(names):\n",
    "    print(f\"Name at index {ind}: {names[ind]}\")\n",
    "else:\n",
    "    print(\"Invalid index!\")"
   ]
  },
  {
   "cell_type": "markdown",
   "id": "b74c2e00-ed01-446f-af03-5e32ec46944f",
   "metadata": {},
   "source": [
    "## Write a Python program that takes an integer input from the user and checks whether the number is:\n",
    "\n",
    "* Positive\n",
    "\n",
    "* Negative\n",
    "\n",
    "* Zero"
   ]
  },
  {
   "cell_type": "code",
   "execution_count": 24,
   "id": "e6ee9b4c-0966-4bc9-8b3c-7a6d8c66e4e4",
   "metadata": {},
   "outputs": [
    {
     "name": "stdin",
     "output_type": "stream",
     "text": [
      "Enter any number (+ve/-ve/0):  0\n"
     ]
    },
    {
     "name": "stdout",
     "output_type": "stream",
     "text": [
      "Zero\n"
     ]
    }
   ],
   "source": [
    "number = int(input(\"Enter any number (+ve/-ve/0): \"))\n",
    "if number > 0:\n",
    "    print(\"Positive\")\n",
    "elif number < 0:\n",
    "    print(\"Negative\")\n",
    "else:\n",
    "    print(\"Zero\")"
   ]
  },
  {
   "cell_type": "markdown",
   "id": "a36e94fe-20e0-4227-abd8-cbd7ca532f51",
   "metadata": {},
   "source": [
    "## Create a Python program that takes a user's age as input and categorizes them into one of the following age groups:\n",
    "\n",
    "* Child (0-12)\n",
    "* Teen (13-19)\n",
    "* Adult (20-64)\n",
    "* Senior (65+)\n",
    "\n",
    "Print the corresponding category based on the user's age."
   ]
  },
  {
   "cell_type": "code",
   "execution_count": 40,
   "id": "0a58d305-0dc2-4363-a420-1cacdd4c2c0b",
   "metadata": {},
   "outputs": [
    {
     "name": "stdin",
     "output_type": "stream",
     "text": [
      "Enter your age please:  65\n"
     ]
    },
    {
     "name": "stdout",
     "output_type": "stream",
     "text": [
      "Your fall in to 'Senior' Category\n"
     ]
    }
   ],
   "source": [
    "age = int(input(\"Enter your age please: \"))\n",
    "cat = None\n",
    "if age >= 65:\n",
    "    cat = \"Senior\"\n",
    "elif age >= 20:\n",
    "    cat = \"Adult\"\n",
    "elif age >= 13:\n",
    "    cat = \"Teen\"\n",
    "else:\n",
    "    cat = \"Child\"\n",
    "\n",
    "print(f\"Your fall in to '{cat}' Category\")"
   ]
  },
  {
   "cell_type": "markdown",
   "id": "13fb3a6c-ba33-41ef-8b6f-85cd454cc909",
   "metadata": {},
   "source": [
    "## Write a program that asks the user for their name and age, and prints out a message such as: \"Hello [name], you are [age] years old."
   ]
  },
  {
   "cell_type": "code",
   "execution_count": 44,
   "id": "2ba6dab2-6064-450d-b44d-21a67f6767f6",
   "metadata": {},
   "outputs": [
    {
     "name": "stdin",
     "output_type": "stream",
     "text": [
      "You name please:  adeel\n",
      "Enter your age please:  27\n"
     ]
    },
    {
     "name": "stdout",
     "output_type": "stream",
     "text": [
      "Hello Adeel, you are 27 years old.\n"
     ]
    }
   ],
   "source": [
    "name = input(\"You name please: \").capitalize()\n",
    "age = int(input(\"Enter your age please: \"))\n",
    "print(f\"Hello {name}, you are {age} years old.\")"
   ]
  },
  {
   "cell_type": "markdown",
   "id": "753e9996-d137-4577-b8d8-39c697ae51e5",
   "metadata": {},
   "source": [
    "## Write a Python program that demonstrates the use of arithmetic operators (+, -, *, /, %, //, **). Provide examples of each operator, such as:\n",
    "\n",
    "* Addition of two numbers.\n",
    "* Division of two numbers (including floor division).\n",
    "* Exponentiation (power).\n",
    "* Modulus to find the remainder"
   ]
  },
  {
   "cell_type": "code",
   "execution_count": 15,
   "id": "a2bcdd8c-98c3-4789-8ea0-d176ba443d78",
   "metadata": {},
   "outputs": [
    {
     "name": "stdin",
     "output_type": "stream",
     "text": [
      "\n",
      "Enter a number (or type 'stop' to exit):  10\n",
      "Enter a number (or type 'stop' to exit):  2\n",
      "Enter any operator (or type 'stop'to exit):  +\n"
     ]
    },
    {
     "name": "stdout",
     "output_type": "stream",
     "text": [
      "\n",
      "You have picked '+'\n",
      "Addtion of 10 + 2 = 12.0\n"
     ]
    },
    {
     "name": "stdin",
     "output_type": "stream",
     "text": [
      "\n",
      "Enter a number (or type 'stop' to exit):  10\n",
      "Enter a number (or type 'stop' to exit):  2\n",
      "Enter any operator (or type 'stop'to exit):  -\n"
     ]
    },
    {
     "name": "stdout",
     "output_type": "stream",
     "text": [
      "\n",
      "You have picked '-'\n",
      "Subtraction of 10 - 2 = 8.0\n"
     ]
    },
    {
     "name": "stdin",
     "output_type": "stream",
     "text": [
      "\n",
      "Enter a number (or type 'stop' to exit):  10\n",
      "Enter a number (or type 'stop' to exit):  5\n",
      "Enter any operator (or type 'stop'to exit):  /\n"
     ]
    },
    {
     "name": "stdout",
     "output_type": "stream",
     "text": [
      "\n",
      "You have picked '/'\n",
      "Float Division of 10 / 5 = 2.0\n"
     ]
    },
    {
     "name": "stdin",
     "output_type": "stream",
     "text": [
      "\n",
      "Enter a number (or type 'stop' to exit):  5\n",
      "Enter a number (or type 'stop' to exit):  2\n",
      "Enter any operator (or type 'stop'to exit):  //\n"
     ]
    },
    {
     "name": "stdout",
     "output_type": "stream",
     "text": [
      "\n",
      "You have picked '//'\n",
      "Floor Division of 5 // 2 = 2\n"
     ]
    },
    {
     "name": "stdin",
     "output_type": "stream",
     "text": [
      "\n",
      "Enter a number (or type 'stop' to exit):  stop\n"
     ]
    },
    {
     "name": "stdout",
     "output_type": "stream",
     "text": [
      "Thank you!\n"
     ]
    }
   ],
   "source": [
    "# Sir Nasir's Way of Creating a Simple Calculator for 2 numbers\n",
    "\n",
    "while True:\n",
    "    \n",
    "    a = input(\"\\nEnter a number (or type 'stop' to exit): \").lower()\n",
    "    if a == \"stop\":\n",
    "        print(\"Thank you!\")\n",
    "        break\n",
    "    \n",
    "    b = input(\"Enter a number (or type 'stop' to exit): \").lower()\n",
    "    if b == \"stop\":\n",
    "        print(\"Thank you!\")\n",
    "        break\n",
    "    \n",
    "    op = input(\"Enter any operator (or type 'stop'to exit): \").lower()\n",
    "    if op == \"stop\":\n",
    "        print(\"Thank you!\")\n",
    "        break\n",
    "    \n",
    "    elif op == \"+\":\n",
    "        print(\"\\nYou have picked '+'\")\n",
    "        print(f\"Addtion of {a} + {b} = {float(a) + float(b)}\")\n",
    "    \n",
    "    elif op == \"-\":\n",
    "        print(\"\\nYou have picked '-'\")\n",
    "        print(f\"Subtraction of {a} - {b} = {float(a) - float(b)}\")\n",
    "    \n",
    "    elif op == \"*\":\n",
    "        print(\"\\nYou have picked '*'\")\n",
    "        print(f\"Multiplication of {a} x {b} = {float(a) * float(b)}\")\n",
    "    \n",
    "    elif op == \"/\":\n",
    "        print(\"\\nYou have picked '/'\")\n",
    "        print(f\"Float Division of {a} / {b} = {float(a) / float(b)}\")\n",
    "    \n",
    "    elif op == \"//\":\n",
    "        print(\"\\nYou have picked '//'\")\n",
    "        print(f\"Floor Division of {a} // {b} = {int(a) // int(b)}\")\n",
    "    \n",
    "    elif op == \"%\":\n",
    "        print(\"\\nYou have picked '%'\")\n",
    "        print(f\"Modulus of {a} % {b} = {float(a) % float(b)}\")\n",
    "    \n",
    "    elif op == \"**\":\n",
    "        print(\"\\nYou have picked '**'\")\n",
    "        print(f\"Exponent of {a} ** {b} = {float(a) ** float(b)}\")\n",
    "    \n",
    "    else:\n",
    "        print(\"Invalid Operator! Try any of these: +, -, *, /, //, % or **\")"
   ]
  },
  {
   "cell_type": "code",
   "execution_count": 60,
   "id": "2d6f9ba8-b098-4598-b62d-8057ac6b1342",
   "metadata": {},
   "outputs": [
    {
     "name": "stdout",
     "output_type": "stream",
     "text": [
      "Addition: 7\n",
      "Subtraction: 3\n",
      "Multiplication: 10\n",
      "Division (Float): 2.5\n",
      "Division (Floor): 2\n",
      "Remainder: 1\n",
      "Exponential: 8\n"
     ]
    }
   ],
   "source": [
    "#Addition\n",
    "numbers = 2 + 5\n",
    "print(f\"Addition: {numbers}\")\n",
    "\n",
    "#Subtraction\n",
    "numbers = 5 - 2\n",
    "print(f\"Subtraction: {numbers}\")\n",
    "\n",
    "#Multiplication\n",
    "numbers = 2 * 5\n",
    "print(f\"Multiplication: {numbers}\")\n",
    "\n",
    "#Division\n",
    "numbers = 5/2\n",
    "print(f\"Division (Float): {numbers}\")\n",
    "\n",
    "numbers = 5//2\n",
    "print(f\"Division (Floor): {numbers}\")\n",
    "\n",
    "#Modulus\n",
    "numbers = 5%2\n",
    "print(f\"Remainder: {numbers}\")\n",
    "\n",
    "#Exponent\n",
    "numbers = 2**3\n",
    "print(f\"Exponential: {numbers}\")"
   ]
  },
  {
   "cell_type": "markdown",
   "id": "1870c517-0e30-4bb0-a46a-8cbabc77e0c3",
   "metadata": {},
   "source": [
    "## Create a Program to Reverse a String"
   ]
  },
  {
   "cell_type": "code",
   "execution_count": 90,
   "id": "9c3e955a-d1c6-433e-a478-37cd1d9d0f6f",
   "metadata": {},
   "outputs": [
    {
     "name": "stdout",
     "output_type": "stream",
     "text": [
      "LEEDA\n"
     ]
    }
   ],
   "source": [
    "name = \"ADEEL\"\n",
    "print(name[::-1])"
   ]
  },
  {
   "cell_type": "code",
   "execution_count": 96,
   "id": "58e7502c-a82b-4f03-b84c-feb82967f8ef",
   "metadata": {},
   "outputs": [
    {
     "name": "stdin",
     "output_type": "stream",
     "text": [
      "Enter any name:  adeel\n"
     ]
    },
    {
     "name": "stdout",
     "output_type": "stream",
     "text": [
      "LEEDA\n"
     ]
    }
   ],
   "source": [
    "name = input(\"Enter any name: \").upper()\n",
    "rev = name[::-1]\n",
    "print(rev)"
   ]
  },
  {
   "cell_type": "markdown",
   "id": "6f5a5402-580d-4ccc-98cf-96864dd0ee52",
   "metadata": {},
   "source": [
    "## Write a program that takes a list of numbers as input from the user and sorts the list in ascending order. Print the sorted list after the operation."
   ]
  },
  {
   "cell_type": "code",
   "execution_count": 86,
   "id": "535fb5e3-2f46-4167-ae9e-7a4aaa379f97",
   "metadata": {},
   "outputs": [
    {
     "name": "stdin",
     "output_type": "stream",
     "text": [
      "Enter any number:  1\n",
      "Enter any number:  6\n",
      "Enter any number:  3\n",
      "Enter any number:  7\n",
      "Enter any number:  2\n"
     ]
    },
    {
     "name": "stdout",
     "output_type": "stream",
     "text": [
      "[1, 2, 3, 6, 7]\n"
     ]
    }
   ],
   "source": [
    "numbers = []\n",
    "for i in range(5):\n",
    "    numb = int(input(\"Enter any number: \"))\n",
    "    numbers.append(numb)\n",
    "    numbers.sort()\n",
    "\n",
    "print(numbers)"
   ]
  },
  {
   "cell_type": "code",
   "execution_count": 98,
   "id": "c34baf22-d896-4bdd-8bf4-b6364ef51f45",
   "metadata": {},
   "outputs": [
    {
     "name": "stdin",
     "output_type": "stream",
     "text": [
      "Enter any number:  1\n",
      "Enter any number:  4\n",
      "Enter any number:  6\n",
      "Enter any number:  8\n",
      "Enter any number:  9\n"
     ]
    },
    {
     "name": "stdout",
     "output_type": "stream",
     "text": [
      "[9, 8, 6, 4, 1]\n"
     ]
    }
   ],
   "source": [
    "#for descending\n",
    "numbers = []\n",
    "for i in range(5):\n",
    "    numb = int(input(\"Enter any number: \"))\n",
    "    numbers.append(numb)\n",
    "    numbers.sort(reverse=True)\n",
    "\n",
    "print(numbers)"
   ]
  },
  {
   "cell_type": "markdown",
   "id": "68ec045f-fe59-4e3b-92d5-ae4bcc6ec39c",
   "metadata": {},
   "source": [
    "## Write a program that asks the user for the price of a product and calculates the discount. If the price is greater than 100, give a 20% discount; otherwise, give a 10% discount. Print the discounted price using if-else statements."
   ]
  },
  {
   "cell_type": "code",
   "execution_count": 110,
   "id": "e19c45c9-0200-4d9a-8c02-a0406e50a5f7",
   "metadata": {},
   "outputs": [
    {
     "name": "stdin",
     "output_type": "stream",
     "text": [
      "Enter the price of product:  200\n"
     ]
    },
    {
     "name": "stdout",
     "output_type": "stream",
     "text": [
      "\n",
      "Congrats! You got 40.0 discount on Rs. 200\n",
      "Your total bill after discount is Rs. 160.0\n",
      "\n"
     ]
    }
   ],
   "source": [
    "price = int(input(\"Enter the price of product: \"))\n",
    "discount = None\n",
    "if price > 100: \n",
    "    discount = price * 20/100\n",
    "else:\n",
    "    discount = price * 10/100\n",
    "\n",
    "total = price - discount\n",
    "\n",
    "print(f\"\"\"\n",
    "Congrats! You got {discount} discount on Rs. {price}\n",
    "Your total bill after discount is Rs. {total}\n",
    "\"\"\")"
   ]
  },
  {
   "cell_type": "markdown",
   "id": "25226917-1c9a-4d49-bb5a-edd4cae014ad",
   "metadata": {},
   "source": [
    "## Write a Python program that takes a number (1-7) as input from the user, and prints the corresponding day of the week:\n",
    "\n",
    "* 1: Monday\n",
    "* 2: Tuesday\n",
    "* 3: Wednesday\n",
    "* 4: Thursday\n",
    "* 5: Friday\n",
    "* 6: Saturday\n",
    "* 7: Sunday"
   ]
  },
  {
   "cell_type": "code",
   "execution_count": 124,
   "id": "b1062227-64b2-41c5-8db0-1b7aaf0269b8",
   "metadata": {},
   "outputs": [
    {
     "name": "stdin",
     "output_type": "stream",
     "text": [
      "Enter any number (1-7):  5\n"
     ]
    },
    {
     "name": "stdout",
     "output_type": "stream",
     "text": [
      "Friday\n"
     ]
    }
   ],
   "source": [
    "# method 1\n",
    "num = int(input(\"Enter any number (1-7): \"))\n",
    "if num < 1 or num > 7:\n",
    "    print(\"Invalid! Please enter numbers between 1 to 7\")\n",
    "elif num == 1:\n",
    "    print(\"Monday\")\n",
    "elif num == 2:\n",
    "    print(\"Tuesday\")\n",
    "elif num == 3:\n",
    "    print(\"Wednesday\")\n",
    "elif num == 4:\n",
    "    print(\"Thursday\")\n",
    "elif num == 5:\n",
    "    print(\"Friday\")\n",
    "elif num == 6:\n",
    "    print(\"Saturday\")\n",
    "else:\n",
    "    print(\"Sunday\")"
   ]
  },
  {
   "cell_type": "code",
   "execution_count": 209,
   "id": "f2bc53f9-1e92-43a2-87f3-acb3d07a794d",
   "metadata": {},
   "outputs": [
    {
     "name": "stdin",
     "output_type": "stream",
     "text": [
      "Enter any number:  5\n"
     ]
    },
    {
     "name": "stdout",
     "output_type": "stream",
     "text": [
      "Friday\n"
     ]
    }
   ],
   "source": [
    "#another method (simple one)\n",
    "num = int(input(\"Enter any number: \"))\n",
    "if 1 <= num <= 7:\n",
    "    days = [\"Monday\", \"Tuesday\", \"Wednesday\", \"Thursday\", \"Friday\", \"Saturday\", \"Sunday\"]\n",
    "    print(f\"{days[num - 1]}\")\n",
    "else:\n",
    "    print(\"Invalid Number! Please enter valid number between 1 to 7\")"
   ]
  },
  {
   "cell_type": "markdown",
   "id": "81c12b61-6330-49ae-bf1d-bbead6dc1729",
   "metadata": {},
   "source": [
    "## Write a program that asks the user for the weight of a package and calculates the shipping charges based on the following conditions:\n",
    "\n",
    "\n",
    "* If the weight is less than 1kg, the shipping cost is $5.\n",
    "  \n",
    "* If the weight is between 1kg and 5kg, the shipping cost is $10.\n",
    "\n",
    "  \n",
    "* If the weight is between 5kg and 10kg, the shipping cost is $15.\n",
    "\n",
    "  \n",
    "* If the weight is greater than 10kg, the shipping cost is $20."
   ]
  },
  {
   "cell_type": "code",
   "execution_count": 205,
   "id": "69207c42-7e00-4a9d-806c-6167759e75a6",
   "metadata": {},
   "outputs": [
    {
     "name": "stdin",
     "output_type": "stream",
     "text": [
      "Enter the weight of a package:  2.5\n"
     ]
    },
    {
     "name": "stdout",
     "output_type": "stream",
     "text": [
      "\n",
      "Your shipping cost will be $10\n"
     ]
    }
   ],
   "source": [
    "wei = float(input(\"Enter the weight of a package: \"))\n",
    "sc = None\n",
    "if wei < 1:\n",
    "    sc = 5\n",
    "elif 1 <= wei <= 5:\n",
    "    sc = 10\n",
    "elif 5 < wei <= 10:\n",
    "    sc = 15\n",
    "else:\n",
    "    sc = 20\n",
    "\n",
    "print(f\"\"\"\n",
    "Your shipping cost will be ${sc}\"\"\")"
   ]
  },
  {
   "cell_type": "markdown",
   "id": "f611a172-86d9-4fc8-9032-865be4866ec5",
   "metadata": {},
   "source": [
    "## Write a Python program that asks the user for a single character and checks:\n",
    "\n",
    "* If the character is either a vowel (a, e, i, o, u) or a consonant (any alphabet letter other than a vowel).\n",
    "Print \"Vowel\" if it is a vowel.\n",
    " \n",
    " Print \"Invalid character\" if it is neither."
   ]
  },
  {
   "cell_type": "code",
   "execution_count": 276,
   "id": "338da3ba-b6dc-48e4-96a6-a4b56bbe07a9",
   "metadata": {},
   "outputs": [
    {
     "name": "stdin",
     "output_type": "stream",
     "text": [
      "Enter any single character:  e\n"
     ]
    },
    {
     "name": "stdout",
     "output_type": "stream",
     "text": [
      "Vowel\n"
     ]
    }
   ],
   "source": [
    "sc = input(\"Enter any single character: \").lower()\n",
    "\n",
    "if sc.isalpha() and len(sc) == 1:\n",
    "    if sc in \"aeiou\":\n",
    "        print(\"Vowel\")\n",
    "    else:\n",
    "        print(\"Consonant\")\n",
    "else:\n",
    "    print(\"Invalid\")"
   ]
  },
  {
   "cell_type": "markdown",
   "id": "e96d0352-d6ce-4930-b1c0-0db377f67800",
   "metadata": {},
   "source": [
    "### Write a Python program that asks the student’s grade. The program should check:\n",
    "\n",
    "* If the grade is greater than or equal to 90 and less than or equal to 100, print \"Top 5 Student\".\n",
    "* If the grade is greater than or equal to 80 and less than 90, print \"Top 10 Student\".\n",
    "* Otherwise, print \"Not in Top 10\"."
   ]
  },
  {
   "cell_type": "code",
   "execution_count": 286,
   "id": "68a84a2b-e6d1-4608-944b-37bc7befbb85",
   "metadata": {},
   "outputs": [
    {
     "name": "stdin",
     "output_type": "stream",
     "text": [
      "Enter your marks:  80\n"
     ]
    },
    {
     "name": "stdout",
     "output_type": "stream",
     "text": [
      "You are in TOP-10 List!\n"
     ]
    }
   ],
   "source": [
    "sg = int(input(\"Enter your marks: \"))\n",
    "if 90 <= sg <= 100:\n",
    "    print(\"You have made it to TOP-5 List!\")\n",
    "elif 80 <= sg < 90:\n",
    "    print(\"You are in TOP-10 List!\")\n",
    "else:\n",
    "    print(\"Sorry! You ain't in TOP-10\")"
   ]
  },
  {
   "cell_type": "markdown",
   "id": "b935421a-02a1-4aaa-96bf-06aa1fd4ef2e",
   "metadata": {},
   "source": [
    "## Write a Python program that checks if a student passed based on the following conditions:\n",
    "\n",
    "* If the marks are greater than or equal to 50, check\n",
    "  * if the attendance is 75% or more:\n",
    "  \n",
    "  * If attendance is 75% or more, print \"Passed\".\n",
    "\n",
    "  * If attendance is less than 75%, print \"Failed due to low attendance\".\n",
    "* If the marks are less than 50, print \"Failed due to low marks\"."
   ]
  },
  {
   "cell_type": "code",
   "execution_count": 359,
   "id": "f30bf6d5-6911-4343-a7b0-c3240cbe5b7c",
   "metadata": {},
   "outputs": [
    {
     "name": "stdin",
     "output_type": "stream",
     "text": [
      "Enter your marks:  97\n",
      "Enter your attendance:  76\n"
     ]
    },
    {
     "name": "stdout",
     "output_type": "stream",
     "text": [
      "Passed\n"
     ]
    }
   ],
   "source": [
    "marks = int(input(\"Enter your marks: \"))\n",
    "att = float(input(\"Enter your attendance: \"))\n",
    "if 0 <= marks <= 100 and 0 <= att <= 100:\n",
    "    if marks >= 50:\n",
    "        if att >= 75:\n",
    "            print(\"Passed\")\n",
    "        else:\n",
    "            print(\"Failed due to low attendance\")\n",
    "    else:\n",
    "        print(\"Failed due to low marks\")\n",
    "else:\n",
    "    print(\"Invalid marks or attendance! Enter valid info.\")"
   ]
  },
  {
   "cell_type": "markdown",
   "id": "7a98211b-92fb-447f-a877-0a657a30a1cc",
   "metadata": {},
   "source": [
    "## Write a Python program that checks if a person is eligible for a loan:\n",
    "\n",
    "* If the person’s credit score is above 700, check if their income is above $50,000:\n",
    "    * If true, print \"Loan Approved\".\n",
    "    * If false, print \"Loan Denied due to low income\".\n",
    "* If the credit score is below 700, print \"Loan Denied due to low credit score"
   ]
  },
  {
   "cell_type": "code",
   "execution_count": 349,
   "id": "41851db1-51fb-4ccf-8963-fa13caab4abf",
   "metadata": {},
   "outputs": [
    {
     "name": "stdin",
     "output_type": "stream",
     "text": [
      "Enter you credit score:  760\n",
      "Enter your income:  49999\n"
     ]
    },
    {
     "name": "stdout",
     "output_type": "stream",
     "text": [
      "Loan Denied! Due to Low Income.\n"
     ]
    }
   ],
   "source": [
    "cs = int(input(\"Enter you credit score: \"))\n",
    "inc = int(input(\"Enter your income: \"))\n",
    "if cs > 700:\n",
    "    if inc > 50000:\n",
    "        print(\"Loan Approved!\")\n",
    "    else:\n",
    "        print(\"Loan Denied! Due to Low Income.\")\n",
    "else:\n",
    "    print(\"Loan Denied! Due to Low Credit Score.\")"
   ]
  },
  {
   "cell_type": "code",
   "execution_count": 357,
   "id": "8580a793-d355-4c73-a7d3-cd15be4916b8",
   "metadata": {},
   "outputs": [
    {
     "name": "stdin",
     "output_type": "stream",
     "text": [
      "Enter you credit score:  750\n",
      "Enter your income:  49999\n"
     ]
    },
    {
     "name": "stdout",
     "output_type": "stream",
     "text": [
      "Loan Denied! Due to Low Income.\n"
     ]
    }
   ],
   "source": [
    "# ALTERNATE METHOD WITH CHATGPTS HELP\n",
    "cs = int(input(\"Enter you credit score: \"))\n",
    "inc = int(input(\"Enter your income: \"))\n",
    "\n",
    "if cs < 0 or cs > 850:\n",
    "    print(\"Invalid CS! Credit score must be between 0 to 850\")\n",
    "elif inc < 0:\n",
    "    print(\"Invalid Income! Income can't be negative\")\n",
    "\n",
    "else:\n",
    "    if cs > 700:\n",
    "        if inc > 50000:\n",
    "            print(\"Loan Approved!\")\n",
    "        else:\n",
    "            print(\"Loan Denied! Due to Low Income.\")\n",
    "    else:\n",
    "        print(\"Loan Denied! Due to Low Credit Score.\")"
   ]
  },
  {
   "cell_type": "code",
   "execution_count": null,
   "id": "6e8aa426-1df1-425c-b019-c2001ed428a3",
   "metadata": {},
   "outputs": [],
   "source": []
  }
 ],
 "metadata": {
  "kernelspec": {
   "display_name": "Python [conda env:base] *",
   "language": "python",
   "name": "conda-base-py"
  },
  "language_info": {
   "codemirror_mode": {
    "name": "ipython",
    "version": 3
   },
   "file_extension": ".py",
   "mimetype": "text/x-python",
   "name": "python",
   "nbconvert_exporter": "python",
   "pygments_lexer": "ipython3",
   "version": "3.12.7"
  }
 },
 "nbformat": 4,
 "nbformat_minor": 5
}
